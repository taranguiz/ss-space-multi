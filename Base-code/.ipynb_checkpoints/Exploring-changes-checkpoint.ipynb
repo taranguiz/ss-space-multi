{
 "cells": [
  {
   "cell_type": "markdown",
   "metadata": {},
   "source": [
    "## Let's go to the code\n",
    "First, importing the packages."
   ]
  },
  {
   "cell_type": "code",
   "execution_count": null,
   "metadata": {},
   "outputs": [],
   "source": [
    "import time\n",
    "import os                       # track run time, chdirs, read args from command line\n",
    "import numpy as np                         # math with numpy\n",
    "#import yaml                                # for reading in a parameter file\n",
    "import matplotlib.pyplot as plt            # plot with matplotlib\n",
    "import matplotlib.colors as colors\n",
    "plt.rcParams['axes.facecolor'] =(1,1,1,1)  # white plot backgrounds\n",
    "plt.rcParams['figure.facecolor']=(1,1,1,0) # clear figure backgrounds\n",
    "plt.rcParams['xtick.top']=True # plot ticks on top\n",
    "plt.rcParams['ytick.right']=True # plot ticks on right side\n",
    "plt.rcParams['ytick.direction']='in' # tick marks face in\n",
    "plt.rcParams['xtick.direction']='in' # tick marks face in\n",
    "from sklearn.metrics import mean_squared_error\n",
    "from scipy.stats import norm\n",
    "from skimage import measure\n",
    "import rasterio as rio\n",
    "\n",
    "import warnings\n",
    "warnings.filterwarnings('ignore')\n",
    "\n",
    "from slip import calcSlipRegime, calcOFD, calcCOV # my function for making tectonic regimes and ofd profiles\n",
    "\n",
    "from landlab import RasterModelGrid, imshow_grid # landlab grid components\n",
    "from landlab.components import LinearDiffuser, DepressionFinderAndRouter\n",
    "from landlab.components import FlowAccumulator, FastscapeEroder\n",
    "import pickle as pickle\n",
    "from landlab.io import read_esri_ascii "
   ]
  },
  {
   "cell_type": "markdown",
   "metadata": {},
   "source": [
    "### Next, we'll set various parameters called by the model."
   ]
  },
  {
   "cell_type": "code",
   "execution_count": null,
   "metadata": {},
   "outputs": [],
   "source": [
    "# time parameters\n",
    "dt = 2 # timestep in years\n",
    "tmax = 100 # total time in years\n",
    "\n",
    "# grid parameters\n",
    "xmax = 1000 # x grid dimension in meters\n",
    "ymax = 500 # y grid dimension in meters\n",
    "dxy = 1.0 # grid step in meters\n",
    "\n",
    "# geomorph parameters\n",
    "kappa = 0.01 # hillslope diffusivity; bob says this is good value for DV alluvium. see Nash, Hanks papers. m2/yr diffusivity / transport coefficient for soil diffusion\n",
    "K_sp = 0.003 # stream power for FastscapeEroder\n",
    "threshold = 0.00005 # threshold for FastscapeEroder\n",
    "m = 0.5                 # exponent on area in stream power equation\n",
    "n = 1.                  # exponent on slope in stream power equation\n",
    "\n",
    "# strike-slip parameters\n",
    "slip_interval =0 # how often an earthquake occurs [years]\n",
    "total_slip = 0 # total slip for entire model time [meters]\n",
    "slip_type = 'characteristic' # slip type for calc slip regime function. options are characteristic, creep, random_time, random_slip, random_random\n",
    "control = False # make a model with no tectonics to compare how landscape acts without perturbations\n",
    "uplift_rate = 0.001 # background relative rock uplift rate [m/yr]\n",
    "std = 0\n",
    "seed = 123456\n",
    "slip_regime = None\n",
    "\n",
    "# ofd parameters\n",
    "fault_zone_width = 0.000001 # define width of fault zone (ofd zone) in meters. use 0.000001 for none b/c otherwise get divide by zero error. (distance from fault on either side) [is this half or total? --> total, but not actually used. only used to get ystar = fzw/5]\n",
    "y_star = fault_zone_width/7. # length scale of OFD decay [meters].\n",
    "\n",
    "# plotting parameters (grid plotting & initial conditions)\n",
    "figsize = [10,8] # size of grid plots\n",
    "shrink = 0.35 # amount of colorbar shrinkage for plots (0-1). 1 = not shrunk. 0 = nonexistent.\n",
    "limits = [0,20] # elevation limits for grid plots\n",
    "plots = 100 # how often to save a frame for the movie. 1 = every timestep.\n",
    "\n",
    "model_time = np.arange(0,tmax,dt) # Set model time parameters"
   ]
  },
  {
   "cell_type": "markdown",
   "metadata": {},
   "source": [
    "### Before running the model, we need to initialize the model grid. An instance of the grid will be used to populate various parameters and visualize initial condition topography prior to the simulation. We will use a DEM provided by Reitman et al. (2019) as the model's initial condition."
   ]
  },
  {
   "cell_type": "code",
   "execution_count": null,
   "metadata": {},
   "outputs": [],
   "source": [
    "(grid, z) = read_esri_ascii('ztopo_1000x500y1.asc',name='topographic__elevation') \n",
    "nrows = int(ymax/dxy)\n",
    "ncols = int(xmax/dxy)"
   ]
  },
  {
   "cell_type": "markdown",
   "metadata": {},
   "source": [
    "### Let's take a look at our initial condition model domain."
   ]
  },
  {
   "cell_type": "code",
   "execution_count": null,
   "metadata": {},
   "outputs": [],
   "source": [
    "fig = plt.figure(figsize=figsize)\n",
    "imshow_grid(grid,z,cmap='terrain',limits=limits,grid_units=['m','m'],shrink=shrink)\n",
    "plt.title('Topography after 0 years')\n",
    "plt.text(xmax-110,-80, 'total slip: 0 m')\n",
    "plt.show()"
   ]
  },
  {
   "cell_type": "markdown",
   "metadata": {},
   "source": [
    "### Now, we need to initiallize various tectonics-related parameters and structures that will allow us to simulate strike-slip faulting and track displacement along the fault."
   ]
  },
  {
   "cell_type": "code",
   "execution_count": null,
   "metadata": {},
   "outputs": [],
   "source": [
    "# Set tectonic parameters\n",
    "fault_loc = int(ymax / 2.) # EDITED LINE; Remove 'np.'\n",
    "# row of nodes that are main fault trace\n",
    "fault_nodes = np.where(grid.node_y==fault_loc)[0]\n",
    "# make a slip regime and slip_per_event\n",
    "slip_regime, slip_per_event = calcSlipRegime(tmax, dt, slip_interval,\n",
    "                                             std=std, total_slip=total_slip,\n",
    "                                             slip_type=slip_type, seed=seed)\n",
    "\n",
    "# calculate COV of slip_regime\n",
    "cov = calcCOV(slip_regime,dt)\n",
    "\n",
    "# calculate cumulative_slip\n",
    "cumulative_slip = np.zeros((len(model_time)),dtype=float)\n",
    "for i in range(len(model_time)-1):\n",
    "    if slip_regime[i] > 0:\n",
    "        cumulative_slip[i] += slip_regime[i]\n",
    "    cumulative_slip[i+1] = cumulative_slip[i]\n",
    "    \n",
    "max_slip = slip_per_event # [meters]\n",
    "\n",
    "# calculate ofd slip profile, this is length(nrows)\n",
    "ofd_profile = calcOFD(fault_zone_width,max_slip,fault_loc,y_star,dxy,ymax,nrows,plot=False)\n",
    "\n",
    "###### SET UP TO TRACK DISPLACEMENT #############\n",
    "# because the grid is discretized into pixels, we need to count how much deformation has occurred over an earthquake\n",
    "# and move a pixel after the accumulated deformation is larger than than the pixel length\n",
    "accum_disp = np.zeros(nrows) # start with no accumulated displacement\n",
    "accum_disp_total = np.zeros(shape=(nrows,ncols)) # also track total accumulated displacement\n",
    "displacement = grid.add_zeros('node','accumulated__displacement') # add field to grid to track accumulated displacement\n",
    "\n",
    "# This is an array for counting how many pixels need to be moved\n",
    "nshift = np.zeros(nrows,dtype=int)\n",
    "\n",
    "# set start time for keeping track how long a run takes\n",
    "start_time = time.time()\n",
    "\n",
    "# calculate number of iterations based on total time\n",
    "iterations = len(model_time)"
   ]
  },
  {
   "cell_type": "markdown",
   "metadata": {},
   "source": [
    "### Let's see the slip scenario that we just designed for our model. You'll notice that, for this scenario, the slip rate is constant through time."
   ]
  },
  {
   "cell_type": "code",
   "execution_count": null,
   "metadata": {},
   "outputs": [],
   "source": [
    "# plot slip_regime and cumulative slip\n",
    "fig = plt.subplots(2,1, figsize=(5,10))\n",
    "ax1 = plt.subplot(2,1,1)\n",
    "ax1.plot(model_time, slip_regime,color='steelblue',linewidth=1.0)\n",
    "ax1.set_ylabel('slip (dm)')\n",
    "ax1.set_xlabel('time (yrs)')\n",
    "ax1.set_title('slip regime',fontsize=10)\n",
    "ax2 = plt.subplot(2,1,2)\n",
    "ax2.plot(model_time,cumulative_slip,color='goldenrod')\n",
    "ax2.set_ylabel('slip (dm)')\n",
    "ax2.set_xlabel('time (yrs)')\n",
    "ax2.set_title('cumulative slip',fontsize=10)\n",
    "ax2.text(0,10,'cov: %s' %cov)\n",
    "plt.tight_layout()\n",
    "plt.show()"
   ]
  },
  {
   "cell_type": "markdown",
   "metadata": {},
   "source": [
    "### Alternatively, the displacement that our designed simulation will perform can be viewed in plan-view."
   ]
  },
  {
   "cell_type": "code",
   "execution_count": null,
   "metadata": {},
   "outputs": [],
   "source": [
    "# plot ofd profile\n",
    "fig = plt.subplots(figsize=(5.5,5))\n",
    "plt.plot(ofd_profile,np.linspace(0,ymax,nrows),color='navy',linewidth=1.2)\n",
    "plt.axhline(fault_loc,0,1,color='k',linestyle='--',linewidth=0.5)\n",
    "plt.grid(color='lightgray',linestyle='--')\n",
    "plt.ylabel('distance (m)')\n",
    "plt.xlabel('slip (m)')\n",
    "plt.title('Strike-Slip Displacement Profile')\n",
    "plt.show()"
   ]
  },
  {
   "cell_type": "markdown",
   "metadata": {},
   "source": [
    "### Now, let's define a function that will run the model's main loop. The function includes a uniform background rock uplift rate that is applied to the grid's elevation at each timestep along with fluvial and linear hillslope erosion. By default, the vertical displacement value is spatially and temporally uniform (the background rock uplift rate). However, we will demonstrate how to create and apply a custom rock uplift rate field that simulates oblique-slip faulting."
   ]
  },
  {
   "cell_type": "code",
   "execution_count": null,
   "metadata": {},
   "outputs": [],
   "source": [
    "def main_loop(uplift_fault=np.reshape(z[:],[nrows,ncols])*0):\n",
    "    \n",
    "    (grid, z) = read_esri_ascii('ztopo_1000x500y1.asc',name='topographic__elevation') \n",
    "    grid.set_closed_boundaries_at_grid_edges(False, False, False, False) # Boundary conditions\n",
    "\n",
    "    # Assign global variables\n",
    "    global accum_disp, accum_disp_total, ofd_profile, dt, nrows, ncols, displacement, iterations\n",
    "    \n",
    "    # Initialize landlab components\n",
    "    linear_diffuser = LinearDiffuser(grid,linear_diffusivity=kappa) # hillslope diffusion\n",
    "    flow_router = FlowAccumulator(grid, flow_director='D8')\n",
    "    fill = DepressionFinderAndRouter(grid)\n",
    "    fastscape_eroder = FastscapeEroder(grid,K_sp=K_sp, m_sp=m, n_sp=n, threshold_sp=threshold) # stream power erosion\n",
    "    \n",
    "    # starting an eq counter for the random tectonic regimes\n",
    "    # b/c max_slip is same length as number eq,\n",
    "    # so need to access the right value of max_slip (i.e., the max_slip for that eq)\n",
    "    eq_counter = 0\n",
    "    \n",
    "    #timesteps_between_eqs = 0\n",
    "\n",
    "    for i in range(iterations):\n",
    "\n",
    "        # if this is a time when tectonics happens, do tectonics\n",
    "        if slip_regime[i] > 0:\n",
    "\n",
    "            # Take the landlab grid elevations and reshape into a box nrows x ncols\n",
    "            z_reshape = np.reshape(z[:],[nrows,ncols])\n",
    "        \n",
    "            # Scale uplift_fault\n",
    "            uplift_fault = uplift_fault\n",
    "            \n",
    "            # Calculate the offset that has accumulated for this time/event\n",
    "            # this is used to cound how much to shift the grid for this time/event\n",
    "            # after slip happens, the amount slipped is subtracted from accum_disp\n",
    "            if len(ofd_profile) == nrows: \n",
    "                accum_disp += ofd_profile\n",
    "                for j in range(ncols): accum_disp_total[:,j]+= ofd_profile\n",
    "\n",
    "            else:\n",
    "                accum_disp += ofd_profile[eq_counter,:]\n",
    "                for j in range(ncols): accum_disp_total[:,j]+= ofd_profile[eq_counter,:]\n",
    "\n",
    "\n",
    "            # keep track of total accumulated displacement\n",
    "            accum_disp_total_reshape = np.reshape(accum_disp_total,nrows*ncols)\n",
    "\n",
    "            # save total accumulated displacement in a field on the grid\n",
    "            displacement[:] = accum_disp_total_reshape\n",
    "\n",
    "            # count number of pixels to be moved this time/event\n",
    "            nshift[:] = np.floor(accum_disp/dxy)\n",
    "            \n",
    "            # now scan up the landscape row by row looking for offset\n",
    "            for r in range(nrows): # change xrange to range for Py3\n",
    "\n",
    "                # check if the accumulated offset for a row is larger than a pixel\n",
    "                if accum_disp[r] >= dxy or accum_disp[r] <= -dxy:\n",
    "\n",
    "                    # move the row over by the number of pixels of accumulated offset\n",
    "                    z_reshape[r,:] = np.roll(z_reshape[r,:],nshift[r])\n",
    "\n",
    "                    # subtract the offset pixels from the displacement\n",
    "                    accum_disp[r] -= dxy * nshift[r]\n",
    "\n",
    "            # Add uplift field to the reshaped elevation grid\n",
    "            z_reshape += np.flipud(uplift_fault)*dt # Not sure dt should be here\n",
    "\n",
    "            # Reshape the elevation box into an array for landlab\n",
    "            z_new = np.reshape(z_reshape, nrows*ncols)\n",
    "\n",
    "            # feed new z back into landlab\n",
    "            z[:] = z_new\n",
    "\n",
    "            # move the eq_counter ahead\n",
    "            eq_counter += 1\n",
    "\n",
    "            #timesteps_between_eqs = 0\n",
    "        if i%3 == 0:\n",
    "            imshow_grid(grid,z,cmap='terrain',limits=limits,grid_units=['m','m'],shrink=shrink)\n",
    "            plt.title('Topography after ' + str(i) + ' years')\n",
    "            plt.show()\n",
    "\n",
    "        \n",
    "        #timesteps_between_eqs += 1\n",
    "\n",
    "        # now do the landscape evolution stuff\n",
    "        # diffuse landscape via soil diffusion\n",
    "        linear_diffuser.run_one_step(dt)\n",
    "        # calculate flow routes across new landscape\n",
    "        flow_router.run_one_step()\n",
    "        # erode landscape based on routed flow and stream incision\n",
    "        fastscape_eroder.run_one_step(dt)\n",
    "        # uplift by background uplift rate\n",
    "        z[:] += uplift_rate * dt\n",
    "        # make sure bottom row stays at 0 elevation\n",
    "        z[grid.node_y==0] = 0\n",
    "        \n",
    "    # Return the elevation grid\n",
    "    z_reshape = np.flipud(np.reshape(z[:],[nrows,ncols]))\n",
    "    return z_reshape, grid"
   ]
  },
  {
   "cell_type": "markdown",
   "metadata": {},
   "source": [
    "### Here, we reproduce Reitman et al. (2019)'s results by running a simulation with right-lateral displacement and a uniform background rock uplift rate. Several time slices are extracted from the model's run."
   ]
  },
  {
   "cell_type": "code",
   "execution_count": null,
   "metadata": {},
   "outputs": [],
   "source": [
    "def_run_topo, grid = main_loop()"
   ]
  },
  {
   "cell_type": "markdown",
   "metadata": {},
   "source": [
    "## <font color='green'> Creating a custom uplift rate field to simulate oblique slip:\n",
    "Our uplift rate field will be a grid of the same shape as the model domain. Each cell within the grid will contain a rock uplift rate value that will then be applied to the corresponding node in the model grid within the 'main_loop' function. To create a smoothly varrying grid of rock uplift rates, we first define the uplift rate along two rows: one just north of the fault and one just south of the fault. We then interpolate uplift rates from the fault to the grid's boundaries."
   ]
  },
  {
   "cell_type": "code",
   "execution_count": null,
   "metadata": {},
   "outputs": [],
   "source": [
    "# Create new uplift rate field\n",
    "north_of_fault__uplift_rate = np.ones(grid.number_of_node_columns)\n",
    "peak_u_idx = int(len(north_of_fault__uplift_rate)/5) # Have the peak uplift rate occur at 1/5 of the fault's length\n",
    "north_of_fault__uplift_rate[:peak_u_idx] = np.log(np.arange(500,peak_u_idx+500))-5 # This is where we assign the magnitude of rock uplift rate\n",
    "l = len(north_of_fault__uplift_rate)-peak_u_idx\n",
    "\n",
    "# Uplift rate along a row just north of the fault\n",
    "north_of_fault__uplift_rate[peak_u_idx:] = np.linspace(north_of_fault__uplift_rate[peak_u_idx-1],1,l)\n",
    "north_of_fault__uplift_rate -= north_of_fault__uplift_rate[int(len(north_of_fault__uplift_rate)/2)]\n",
    "\n",
    "# Uplift rate along a row just south of the fault\n",
    "south_of_fault__uplift_rate = np.flipud(north_of_fault__uplift_rate)"
   ]
  },
  {
   "cell_type": "markdown",
   "metadata": {},
   "source": [
    "### Let's see the uplift rates we've just created that will border the northern and southern side of the fault."
   ]
  },
  {
   "cell_type": "code",
   "execution_count": null,
   "metadata": {},
   "outputs": [],
   "source": [
    "fig = plt.subplots(1,2,figsize=(20,4))\n",
    "plt.subplot(1,2,1)\n",
    "plt.plot(north_of_fault__uplift_rate)\n",
    "plt.title('Uplift Rate Just North of the Fault''s Trace')\n",
    "plt.xlabel('x (m)')\n",
    "plt.ylabel('m/yr')\n",
    "\n",
    "plt.subplot(1,2,2)\n",
    "plt.plot(south_of_fault__uplift_rate)\n",
    "plt.title('Uplift Rate Just South of the Fault''s Trace')\n",
    "plt.xlabel('x (m)')\n",
    "plt.ylabel('m/yr')"
   ]
  },
  {
   "cell_type": "markdown",
   "metadata": {},
   "source": [
    "### Now all we have to do is add these uplift rates to a grid made of zeros that is of the same size as the model domain. We can then interpolate uplift rates from the grid's center to its boundaries."
   ]
  },
  {
   "cell_type": "code",
   "execution_count": null,
   "metadata": {},
   "outputs": [],
   "source": [
    "# Initialize the grid storing oblique slip uplift rate values\n",
    "uplift_fault = np.zeros([nrows, ncols])\n",
    "uplift_fault[250,:] = north_of_fault__uplift_rate\n",
    "uplift_fault[251,:] = south_of_fault__uplift_rate"
   ]
  },
  {
   "cell_type": "code",
   "execution_count": null,
   "metadata": {},
   "outputs": [],
   "source": [
    "# Fill in the rock uplift rate values by interpolating from the center rows to the edges for each column.\n",
    "for i in range(uplift_fault.shape[1]):\n",
    "    uplift_fault[:250,i] = np.linspace(0,uplift_fault[250,i],250)\n",
    "    uplift_fault[251:,i] = np.linspace(uplift_fault[251,i],0,249)\n",
    "    \n",
    "# Plot the uplift rate field\n",
    "fig = plt.figure(figsize=figsize)\n",
    "plt.imshow(uplift_fault)\n",
    "plt.colorbar(shrink=.5,label=r'$m/y$')"
   ]
  },
  {
   "cell_type": "markdown",
   "metadata": {},
   "source": [
    "### Awesome! Now let's run a simulation using our newly-constructed uplift rate field as the input to the 'main_loop' function."
   ]
  },
  {
   "cell_type": "code",
   "execution_count": null,
   "metadata": {},
   "outputs": [],
   "source": [
    "uplift_run_topo, grid = main_loop(uplift_fault)"
   ]
  },
  {
   "cell_type": "markdown",
   "metadata": {},
   "source": [
    "### To visualize how the custom uplift rate field influences topography, let's plot the difference between the output of the oblique slip run and the uniform background rock uplift rate run."
   ]
  },
  {
   "cell_type": "code",
   "execution_count": null,
   "metadata": {},
   "outputs": [],
   "source": [
    "topo_diff = uplift_run_topo - def_run_topo\n",
    "plt.imshow(topo_diff,cmap='seismic',vmax = 3, vmin = -3)\n",
    "plt.colorbar(shrink=.5,label=r'$m$')\n",
    "plt.title('Differential Topography after Simulations')"
   ]
  },
  {
   "cell_type": "markdown",
   "metadata": {},
   "source": [
    "### Now let's see how incorporating spatially variable rock uplift influences the fluvial network throughout our domain."
   ]
  },
  {
   "cell_type": "code",
   "execution_count": null,
   "metadata": {},
   "outputs": [],
   "source": [
    "from landlab.components import ChannelProfiler, FlowAccumulator\n",
    "\n",
    "# Update flow accumulator\n",
    "fr = FlowAccumulator(grid, flow_director='D8',depression_finder='DepressionFinderAndRouter')\n",
    "fr.run_one_step()\n",
    "    \n",
    "# Plot channel profiles\n",
    "profiler = ChannelProfiler(grid, number_of_watersheds = 800)\n",
    "profiler.run_one_step()\n",
    "            \n",
    "plt.figure()\n",
    "imshow_grid(grid,\"topographic__elevation\")\n",
    "\n",
    "riv_nodes = profiler.nodes\n",
    "\n",
    "for i in range(len(riv_nodes)):\n",
    "            \n",
    "    riv_x = grid.x_of_node[riv_nodes[i]]\n",
    "    riv_y = grid.y_of_node[riv_nodes[i]]\n",
    "\n",
    "    plt.plot(riv_x,riv_y,color='b')\n",
    "\n",
    "\n"
   ]
  },
  {
   "cell_type": "markdown",
   "metadata": {},
   "source": [
    "### As you can see, horizontal offset in the fluvial network is variable despite uniform magnitude of total slip along the fault. In some cases, river offset even mimics left-lateral slip (see river in upper right corner)! Our simulations suggest that individual river offsets in oblique-slip fault systems can be misleading indicators of the magnitude and direction of horizontal displacement."
   ]
  },
  {
   "cell_type": "markdown",
   "metadata": {},
   "source": [
    "### <font color='green'> References\n",
    "Reitman, N.G., Mueller, K.J., Tucker, G.E., Gold, R.D., Briggs, R.W., and Barnhart, K.R., 2019, Offset Channels May Not Accurately Record Strike-Slip Fault Displacement: Evidence From Landscape Evolution Models: Journal of Geophysical Research: "
   ]
  }
 ],
 "metadata": {
  "kernelspec": {
   "display_name": "Python 3 (ipykernel)",
   "language": "python",
   "name": "python3"
  },
  "language_info": {
   "codemirror_mode": {
    "name": "ipython",
    "version": 3
   },
   "file_extension": ".py",
   "mimetype": "text/x-python",
   "name": "python",
   "nbconvert_exporter": "python",
   "pygments_lexer": "ipython3",
   "version": "3.9.9"
  }
 },
 "nbformat": 4,
 "nbformat_minor": 4
}
